{
 "cells": [
  {
   "cell_type": "code",
   "execution_count": 1,
   "metadata": {
    "collapsed": true
   },
   "outputs": [],
   "source": [
    "# k-neighbour Classifier for bread caner data set"
   ]
  },
  {
   "cell_type": "code",
   "execution_count": 8,
   "metadata": {},
   "outputs": [],
   "source": [
    "from sklearn.datasets import load_breast_cancer\n",
    "from sklearn.neighbors import KNeighborsClassifier\n",
    "from sklearn.model_selection import train_test_split\n",
    "\n",
    "import matplotlib.pyplot as plt\n",
    "%matplotlib inline "
   ]
  },
  {
   "cell_type": "code",
   "execution_count": 13,
   "metadata": {},
   "outputs": [
    {
     "data": {
      "text/plain": [
       "KNeighborsClassifier(algorithm='auto', leaf_size=30, metric='minkowski',\n",
       "           metric_params=None, n_jobs=1, n_neighbors=5, p=2,\n",
       "           weights='uniform')"
      ]
     },
     "execution_count": 13,
     "metadata": {},
     "output_type": "execute_result"
    }
   ],
   "source": [
    "# loading default data set into cancer variable\n",
    "cancer = load_breast_cancer()\n",
    "\n",
    "# splitting the cancer data set into train and test using sklearn builtin function\n",
    "X_train, X_test, y_train, y_test = train_test_split(cancer.data, cancer.target, stratify= cancer.target,random_state = 42)\n",
    "\n",
    "knn = KNeighborsClassifier()\n",
    "knn.fit(X_train, y_train)"
   ]
  },
  {
   "cell_type": "code",
   "execution_count": 16,
   "metadata": {},
   "outputs": [
    {
     "name": "stdout",
     "output_type": "stream",
     "text": [
      "Accuracy of KNN n = 5, on the Training set : 94.60%\n",
      "Accuracy of KNN n = 5, on the Test set : 93.01%\n"
     ]
    }
   ],
   "source": [
    "print (\"Accuracy of KNN n = 5, on the Training set : {0:.2%}\".format(knn.score(X_train, y_train)))\n",
    "print (\"Accuracy of KNN n = 5, on the Test set : {0:.2%}\".format(knn.score(X_test, y_test)))\n"
   ]
  },
  {
   "cell_type": "markdown",
   "metadata": {},
   "source": [
    "## Now we gonna test this model with different values of \"n\" and see which produces the better results in terms of Prediction"
   ]
  },
  {
   "cell_type": "code",
   "execution_count": 19,
   "metadata": {},
   "outputs": [
    {
     "data": {
      "text/plain": [
       "<matplotlib.legend.Legend at 0x1b6c3ebe668>"
      ]
     },
     "execution_count": 19,
     "metadata": {},
     "output_type": "execute_result"
    },
    {
     "data": {
      "image/png": "[encoded data removed]",
      "text/plain": [
       "<matplotlib.figure.Figure at 0x1b6c2ff1c50>"
      ]
     },
     "metadata": {},
     "output_type": "display_data"
    }
   ],
   "source": [
    "X_train , X_test, y_train, y_test = train_test_split(cancer.data, cancer.target, stratify=cancer.target, random_state= 66)\n",
    "\n",
    "training_accuracy = []\n",
    "test_accuracy = []\n",
    "\n",
    "neighour_range = range(1,11)\n",
    "\n",
    "for neighbors in neighour_range:\n",
    "    classifier = KNeighborsClassifier(n_neighbors= neighbors)\n",
    "    classifier.fit(X_train,y_train)\n",
    "    \n",
    "    # appending the score on train and rest set in accuracy arrays\n",
    "    training_accuracy.append(classifier.score(X_train,y_train))\n",
    "    test_accuracy.append(classifier.score(X_test,y_test))\n",
    "    \n",
    "plt.plot(neighour_range, training_accuracy, label=\"Accuracy on the training set:\")\n",
    "plt.plot(neighour_range, test_accuracy, label=\"Accuracy on the test set:\")\n",
    "plt.ylabel(\"Accuracy\")\n",
    "plt.xlabel(\"Number of neighbours\")\n",
    "plt.legend()"
   ]
  },
  {
   "cell_type": "code",
   "execution_count": null,
   "metadata": {
    "collapsed": true
   },
   "outputs": [],
   "source": []
  }
 ],
 "metadata": {
  "kernelspec": {
   "display_name": "Python 3",
   "language": "python",
   "name": "python3"
  },
  "language_info": {
   "codemirror_mode": {
    "name": "ipython",
    "version": 3
   },
   "file_extension": ".py",
   "mimetype": "text/x-python",
   "name": "python",
   "nbconvert_exporter": "python",
   "pygments_lexer": "ipython3",
   "version": "3.6.2"
  }
 },
 "nbformat": 4,
 "nbformat_minor": 2
}
