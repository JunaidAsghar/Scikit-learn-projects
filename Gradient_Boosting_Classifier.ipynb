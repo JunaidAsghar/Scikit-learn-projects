{
 "cells": [
  {
   "cell_type": "code",
   "execution_count": 4,
   "metadata": {},
   "outputs": [],
   "source": [
    "# Gradient Boosting Classifier on Iris Data set\n",
    "# plus Uncertainity Estimation\n",
    "\n",
    "from sklearn.ensemble import GradientBoostingClassifier \n",
    "from sklearn.datasets import load_iris\n",
    "from sklearn.model_selection import train_test_split\n",
    "\n"
   ]
  },
  {
   "cell_type": "code",
   "execution_count": 5,
   "metadata": {
    "collapsed": true
   },
   "outputs": [],
   "source": [
    "iris = load_iris()"
   ]
  },
  {
   "cell_type": "code",
   "execution_count": 8,
   "metadata": {},
   "outputs": [
    {
     "data": {
      "text/plain": [
       "GradientBoostingClassifier(criterion='friedman_mse', init=None,\n",
       "              learning_rate=0.01, loss='deviance', max_depth=3,\n",
       "              max_features=None, max_leaf_nodes=None,\n",
       "              min_impurity_decrease=0.0, min_impurity_split=None,\n",
       "              min_samples_leaf=1, min_samples_split=2,\n",
       "              min_weight_fraction_leaf=0.0, n_estimators=100,\n",
       "              presort='auto', random_state=0, subsample=1.0, verbose=0,\n",
       "              warm_start=False)"
      ]
     },
     "execution_count": 8,
     "metadata": {},
     "output_type": "execute_result"
    }
   ],
   "source": [
    "X_train, X_test, y_train,y_test = train_test_split(iris.data, iris.target, random_state=42)\n",
    "gbc = GradientBoostingClassifier(learning_rate=0.01, random_state=0)\n",
    "\n",
    "gbc.fit(X_train,y_train)"
   ]
  },
  {
   "cell_type": "code",
   "execution_count": 9,
   "metadata": {},
   "outputs": [
    {
     "name": "stdout",
     "output_type": "stream",
     "text": [
      "The dicision function \n",
      "\n",
      "[[ 1.51154215 -0.49561142 -0.50310736]\n",
      " [ 1.51154215 -0.49561142 -0.50310736]\n",
      " [-0.53043817 -0.43410541  1.41247816]\n",
      " [-0.52931069  1.46560359 -0.50448467]\n",
      " [-0.52931069  1.46560359 -0.50448467]\n",
      " [ 1.51154215 -0.49561142 -0.50310736]\n",
      " [ 1.51154215 -0.49561142 -0.50310736]\n",
      " [-0.52931069  1.46560359 -0.50448467]\n",
      " [-0.53043817  0.64925114  0.79690616]\n",
      " [-0.52419721 -0.4676268   1.51953786]]\n"
     ]
    }
   ],
   "source": [
    "print (\"The dicision function output:\\n\\n{}\". format(gbc.decision_function(X_train[:10])))"
   ]
  },
  {
   "cell_type": "code",
   "execution_count": 10,
   "metadata": {},
   "outputs": [
    {
     "name": "stdout",
     "output_type": "stream",
     "text": [
      "The predicted probability output:\n",
      "\n",
      "[[ 0.78880668  0.10599243  0.10520089]\n",
      " [ 0.78880668  0.10599243  0.10520089]\n",
      " [ 0.11012973  0.12126665  0.76860362]\n",
      " [ 0.10664722  0.7840248   0.10932798]\n",
      " [ 0.10664722  0.7840248   0.10932798]\n",
      " [ 0.78880668  0.10599243  0.10520089]\n",
      " [ 0.78880668  0.10599243  0.10520089]\n",
      " [ 0.10664722  0.7840248   0.10932798]\n",
      " [ 0.12462024  0.40543491  0.46994485]\n",
      " [ 0.1022747   0.1082272   0.78949809]]\n"
     ]
    }
   ],
   "source": [
    "print (\"The predicted probability output:\\n\\n{}\". format(gbc.predict_proba(X_train[:10])))"
   ]
  },
  {
   "cell_type": "code",
   "execution_count": null,
   "metadata": {
    "collapsed": true
   },
   "outputs": [],
   "source": []
  }
 ],
 "metadata": {
  "kernelspec": {
   "display_name": "Python 3",
   "language": "python",
   "name": "python3"
  },
  "language_info": {
   "codemirror_mode": {
    "name": "ipython",
    "version": 3
   },
   "file_extension": ".py",
   "mimetype": "text/x-python",
   "name": "python",
   "nbconvert_exporter": "python",
   "pygments_lexer": "ipython3",
   "version": "3.6.2"
  }
 },
 "nbformat": 4,
 "nbformat_minor": 2
}
